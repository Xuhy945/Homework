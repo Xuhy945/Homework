{
 "cells": [
  {
   "cell_type": "markdown",
   "metadata": {},
   "source": [
    "# Home 4: Build a CNN for image recognition.\n",
    "\n",
    "### Name: [Your-Name?]\n"
   ]
  },
  {
   "cell_type": "markdown",
   "metadata": {},
   "source": [
    "## 0. You will do the following:\n",
    "\n",
    "1. Read, complete, and run the code.\n",
    "\n",
    "2. **Make substantial improvements** to maximize the accurcy.\n",
    "    \n",
    "3. Convert the .IPYNB file to .HTML file.\n",
    "\n",
    "    * The HTML file must contain the code and the output after execution.\n",
    "    \n",
    "    * Missing **the output after execution** will not be graded.\n",
    "    \n",
    "4. Upload this .HTML file to your Google Drive, Dropbox, or Github repo. (If you submit the file to Google Drive or Dropbox, you must make the file \"open-access\". The delay caused by \"deny of access\" may result in late penalty.)\n",
    "\n",
    "4. Submit the link to this .HTML file to Canvas.\n",
    "\n",
    "    * Example: https://github.com/wangshusen/CS583-2020S/blob/master/homework/HM4/HM4.html\n",
    "\n",
    "\n",
    "## Requirements:\n",
    "\n",
    "1. You can use whatever CNN architecture, including VGG, Inception, and ResNet. However, you must build the networks layer by layer. You must NOT import the archetectures from ```keras.applications```.\n",
    "\n",
    "2. Make sure ```BatchNormalization``` is between a ```Conv```/```Dense``` layer and an ```activation``` layer.\n",
    "\n",
    "3. If you want to regularize a ```Conv```/```Dense``` layer, you should place a ```Dropout``` layer **before** the ```Conv```/```Dense``` layer.\n",
    "\n",
    "4. An accuracy above 70% is considered reasonable. An accuracy above 80% is considered good. Without data augmentation, achieving 80% accuracy is difficult.\n",
    "\n",
    "\n",
    "## Google Colab\n",
    "\n",
    "- If you do not have GPU, the training of a CNN can be slow. Google Colab is a good option.\n",
    "\n",
    "- Keep in mind that you must download it as an IPYNB file and then use IPython Notebook to convert it to HTML.\n",
    "\n",
    "- Also keep in mind that the IPYNB and HTML files must contain the outputs. (Otherwise, the instructor will not be able to know the correctness and performance.) Do the followings to keep the outputs.\n",
    "\n",
    "- In Colab, go to ```Runtime``` --> ```Change runtime type``` --> Do NOT check ```Omit code cell output when saving this notebook```. In this way, the downloaded IPYNB file contains the outputs."
   ]
  },
  {
   "cell_type": "markdown",
   "metadata": {},
   "source": [
    "## 1. Data preparation"
   ]
  },
  {
   "cell_type": "markdown",
   "metadata": {},
   "source": [
    "### 1.1. Load data\n"
   ]
  },
  {
   "cell_type": "code",
   "execution_count": 1,
   "metadata": {},
   "outputs": [
    {
     "name": "stderr",
     "output_type": "stream",
     "text": [
      "Using TensorFlow backend.\n"
     ]
    },
    {
     "name": "stdout",
     "output_type": "stream",
     "text": [
      "Downloading data from https://www.cs.toronto.edu/~kriz/cifar-10-python.tar.gz\n",
      "170500096/170498071 [==============================] - 167s 1us/step\n",
      "shape of x_train: (50000, 32, 32, 3)\n",
      "shape of y_train: (50000, 1)\n",
      "shape of x_test: (10000, 32, 32, 3)\n",
      "shape of y_test: (10000, 1)\n",
      "number of classes: 10\n"
     ]
    }
   ],
   "source": [
    "from keras.datasets import cifar10\n",
    "import numpy\n",
    "\n",
    "(x_train, y_train), (x_test, y_test) = cifar10.load_data()\n",
    "\n",
    "print('shape of x_train: ' + str(x_train.shape))\n",
    "print('shape of y_train: ' + str(y_train.shape))\n",
    "print('shape of x_test: ' + str(x_test.shape))\n",
    "print('shape of y_test: ' + str(y_test.shape))\n",
    "print('number of classes: ' + str(numpy.max(y_train) - numpy.min(y_train) + 1))"
   ]
  },
  {
   "cell_type": "markdown",
   "metadata": {},
   "source": [
    "### 1.2. One-hot encode the labels\n",
    "\n",
    "In the input, a label is a scalar in $\\{0, 1, \\cdots , 9\\}$. One-hot encode transform such a scalar to a $10$-dim vector. E.g., a scalar ```y_train[j]=3``` is transformed to the vector ```y_train_vec[j]=[0, 0, 0, 1, 0, 0, 0, 0, 0, 0]```.\n",
    "\n",
    "1. Define a function ```to_one_hot``` that transforms an $n\\times 1$ array to a $n\\times 10$ matrix.\n",
    "\n",
    "2. Apply the function to ```y_train``` and ```y_test```."
   ]
  },
  {
   "cell_type": "code",
   "execution_count": 3,
   "metadata": {},
   "outputs": [
    {
     "name": "stdout",
     "output_type": "stream",
     "text": [
      "Shape of y_train_vec: (50000, 10)\n",
      "Shape of y_test_vec: (10000, 10)\n",
      "[6]\n",
      "[0. 0. 0. 0. 0. 0. 1. 0. 0. 0.]\n"
     ]
    }
   ],
   "source": [
    "def to_one_hot(y, num_class=10):\n",
    "    one_hot=numpy.zeros((y.shape[0],10))\n",
    "    for i in range(y.shape[0]):\n",
    "        index=y[i]\n",
    "        one_hot[i,index]=1\n",
    "    return one_hot\n",
    "\n",
    "y_train_vec = to_one_hot(y_train)\n",
    "y_test_vec = to_one_hot(y_test)\n",
    "\n",
    "print('Shape of y_train_vec: ' + str(y_train_vec.shape))\n",
    "print('Shape of y_test_vec: ' + str(y_test_vec.shape))\n",
    "\n",
    "print(y_train[0])\n",
    "print(y_train_vec[0])"
   ]
  },
  {
   "cell_type": "markdown",
   "metadata": {},
   "source": [
    "#### Remark: the outputs should be\n",
    "* Shape of y_train_vec: (50000, 10)\n",
    "* Shape of y_test_vec: (10000, 10)\n",
    "* [6]\n",
    "* [0. 0. 0. 0. 0. 0. 1. 0. 0. 0.]"
   ]
  },
  {
   "cell_type": "markdown",
   "metadata": {},
   "source": [
    "### 1.3. Randomly partition the training set to training and validation sets\n",
    "\n",
    "Randomly partition the 50K training samples to 2 sets:\n",
    "* a training set containing 40K samples\n",
    "* a validation set containing 10K samples\n"
   ]
  },
  {
   "cell_type": "code",
   "execution_count": 4,
   "metadata": {},
   "outputs": [
    {
     "name": "stdout",
     "output_type": "stream",
     "text": [
      "Shape of x_tr: (40000, 32, 32, 3)\n",
      "Shape of y_tr: (40000, 10)\n",
      "Shape of x_val: (10000, 32, 32, 3)\n",
      "Shape of y_val: (10000, 10)\n"
     ]
    }
   ],
   "source": [
    "rand_indices = numpy.random.permutation(50000)\n",
    "train_indices = rand_indices[0:40000]\n",
    "valid_indices = rand_indices[40000:50000]\n",
    "\n",
    "x_val = x_train[valid_indices, :]\n",
    "y_val = y_train_vec[valid_indices, :]\n",
    "\n",
    "x_tr = x_train[train_indices, :]\n",
    "y_tr = y_train_vec[train_indices, :]\n",
    "\n",
    "print('Shape of x_tr: ' + str(x_tr.shape))\n",
    "print('Shape of y_tr: ' + str(y_tr.shape))\n",
    "print('Shape of x_val: ' + str(x_val.shape))\n",
    "print('Shape of y_val: ' + str(y_val.shape))"
   ]
  },
  {
   "cell_type": "markdown",
   "metadata": {},
   "source": [
    "## 2. Build a CNN and tune its hyper-parameters\n",
    "\n",
    "1. Build a convolutional neural network model\n",
    "2. Use the validation data to tune the hyper-parameters (e.g., network structure, and optimization algorithm)\n",
    "    * Do NOT use test data for hyper-parameter tuning!!!\n",
    "3. Try to achieve a validation accuracy as high as possible."
   ]
  },
  {
   "cell_type": "markdown",
   "metadata": {},
   "source": [
    "### Remark: \n",
    "\n",
    "The following CNN is just an example. You are supposed to make **substantial improvements** such as:\n",
    "* Add more layers.\n",
    "* Use regularizations, e.g., dropout.\n",
    "* Use batch normalization."
   ]
  },
  {
   "cell_type": "code",
   "execution_count": 11,
   "metadata": {},
   "outputs": [
    {
     "name": "stdout",
     "output_type": "stream",
     "text": [
      "_________________________________________________________________\n",
      "Layer (type)                 Output Shape              Param #   \n",
      "=================================================================\n",
      "conv2d_14 (Conv2D)           (None, 32, 32, 32)        896       \n",
      "_________________________________________________________________\n",
      "conv2d_15 (Conv2D)           (None, 30, 30, 32)        9248      \n",
      "_________________________________________________________________\n",
      "dropout_6 (Dropout)          (None, 30, 30, 32)        0         \n",
      "_________________________________________________________________\n",
      "conv2d_16 (Conv2D)           (None, 30, 30, 64)        18496     \n",
      "_________________________________________________________________\n",
      "conv2d_17 (Conv2D)           (None, 28, 28, 64)        36928     \n",
      "_________________________________________________________________\n",
      "max_pooling2d_6 (MaxPooling2 (None, 14, 14, 64)        0         \n",
      "_________________________________________________________________\n",
      "dropout_7 (Dropout)          (None, 14, 14, 64)        0         \n",
      "_________________________________________________________________\n",
      "conv2d_18 (Conv2D)           (None, 14, 14, 128)       73856     \n",
      "_________________________________________________________________\n",
      "conv2d_19 (Conv2D)           (None, 12, 12, 128)       147584    \n",
      "_________________________________________________________________\n",
      "max_pooling2d_7 (MaxPooling2 (None, 6, 6, 128)         0         \n",
      "_________________________________________________________________\n",
      "dropout_8 (Dropout)          (None, 6, 6, 128)         0         \n",
      "_________________________________________________________________\n",
      "conv2d_20 (Conv2D)           (None, 6, 6, 256)         295168    \n",
      "_________________________________________________________________\n",
      "conv2d_21 (Conv2D)           (None, 6, 6, 256)         65792     \n",
      "_________________________________________________________________\n",
      "max_pooling2d_8 (MaxPooling2 (None, 3, 3, 256)         0         \n",
      "_________________________________________________________________\n",
      "dropout_9 (Dropout)          (None, 3, 3, 256)         0         \n",
      "_________________________________________________________________\n",
      "flatten_3 (Flatten)          (None, 2304)              0         \n",
      "_________________________________________________________________\n",
      "dense_4 (Dense)              (None, 512)               1180160   \n",
      "_________________________________________________________________\n",
      "dropout_10 (Dropout)         (None, 512)               0         \n",
      "_________________________________________________________________\n",
      "dense_5 (Dense)              (None, 10)                5130      \n",
      "=================================================================\n",
      "Total params: 1,833,258\n",
      "Trainable params: 1,833,258\n",
      "Non-trainable params: 0\n",
      "_________________________________________________________________\n"
     ]
    }
   ],
   "source": [
    "from keras.layers import Conv2D, MaxPooling2D, Flatten, Dense, Dropout\n",
    "from keras.layers import BatchNormalization as BN\n",
    "from keras.models import Sequential\n",
    "\n",
    "model = Sequential()\n",
    "model.add(Conv2D(32, (3, 3), padding='same',activation='relu',input_shape=x_train.shape[1:]))\n",
    "model.add(Conv2D(32, (3, 3),activation='relu'))\n",
    "model.add(Dropout(0.25))\n",
    "model.add(Conv2D(64, (3, 3), padding='same',activation='relu'))\n",
    "model.add(Conv2D(64, (3, 3),activation='relu'))\n",
    "model.add(MaxPooling2D(pool_size=(2, 2)))\n",
    "model.add(Dropout(0.25))\n",
    "model.add(Conv2D(128, (3, 3), padding='same',activation='relu'))\n",
    "model.add(Conv2D(128, (3, 3),activation='relu'))\n",
    "model.add(MaxPooling2D(pool_size=(2, 2)))\n",
    "model.add(Dropout(0.25))\n",
    "model.add(Conv2D(256, (3, 3), padding='same',activation='relu'))\n",
    "model.add(Conv2D(256, (1, 1),activation='relu'))\n",
    "model.add(MaxPooling2D(pool_size=(2, 2)))\n",
    "model.add(Dropout(0.25))\n",
    "model.add(Flatten())\n",
    "model.add(Dense(512,activation='relu'))\n",
    "model.add(Dropout(0.5))\n",
    "model.add(Dense(10,activation='softmax'))\n",
    "model.summary()"
   ]
  },
  {
   "cell_type": "code",
   "execution_count": 14,
   "metadata": {},
   "outputs": [],
   "source": [
    "from keras import optimizers\n",
    "\n",
    "learning_rate = 1E-4 # to be tuned!\n",
    "\n",
    "model.compile(loss='categorical_crossentropy',\n",
    "              optimizer=optimizers.RMSprop(lr=learning_rate, decay=1e-6),\n",
    "              metrics=['acc'])"
   ]
  },
  {
   "cell_type": "code",
   "execution_count": 16,
   "metadata": {},
   "outputs": [
    {
     "name": "stdout",
     "output_type": "stream",
     "text": [
      "Train on 40000 samples, validate on 10000 samples\n",
      "Epoch 1/100\n",
      "40000/40000 [==============================] - 18s 459us/step - loss: 0.9127 - acc: 0.6797 - val_loss: 0.8273 - val_acc: 0.7094\n",
      "Epoch 2/100\n",
      "40000/40000 [==============================] - 19s 465us/step - loss: 0.8698 - acc: 0.6960 - val_loss: 0.7800 - val_acc: 0.7323\n",
      "Epoch 3/100\n",
      "40000/40000 [==============================] - 19s 468us/step - loss: 0.8322 - acc: 0.7083 - val_loss: 0.7914 - val_acc: 0.7250\n",
      "Epoch 4/100\n",
      "40000/40000 [==============================] - 19s 468us/step - loss: 0.7995 - acc: 0.7191 - val_loss: 0.7366 - val_acc: 0.7449\n",
      "Epoch 5/100\n",
      "40000/40000 [==============================] - 18s 462us/step - loss: 0.7753 - acc: 0.7282 - val_loss: 0.7884 - val_acc: 0.7269\n",
      "Epoch 6/100\n",
      "40000/40000 [==============================] - 18s 459us/step - loss: 0.7415 - acc: 0.7406 - val_loss: 0.7115 - val_acc: 0.7519\n",
      "Epoch 7/100\n",
      "40000/40000 [==============================] - 19s 463us/step - loss: 0.7240 - acc: 0.7477 - val_loss: 0.6775 - val_acc: 0.7619\n",
      "Epoch 8/100\n",
      "40000/40000 [==============================] - 18s 462us/step - loss: 0.7002 - acc: 0.7527 - val_loss: 0.6904 - val_acc: 0.7630\n",
      "Epoch 9/100\n",
      "40000/40000 [==============================] - 18s 455us/step - loss: 0.6759 - acc: 0.7642 - val_loss: 0.6796 - val_acc: 0.7646\n",
      "Epoch 10/100\n",
      "40000/40000 [==============================] - 19s 472us/step - loss: 0.6582 - acc: 0.7694 - val_loss: 0.6458 - val_acc: 0.7785\n",
      "Epoch 11/100\n",
      "40000/40000 [==============================] - 18s 461us/step - loss: 0.6459 - acc: 0.7758 - val_loss: 0.6378 - val_acc: 0.7836\n",
      "Epoch 12/100\n",
      "40000/40000 [==============================] - 18s 453us/step - loss: 0.6325 - acc: 0.7793 - val_loss: 0.6354 - val_acc: 0.7807\n",
      "Epoch 13/100\n",
      "40000/40000 [==============================] - 18s 455us/step - loss: 0.6123 - acc: 0.7878 - val_loss: 0.6292 - val_acc: 0.7848\n",
      "Epoch 14/100\n",
      "40000/40000 [==============================] - 18s 456us/step - loss: 0.6047 - acc: 0.7898 - val_loss: 0.6415 - val_acc: 0.7873\n",
      "Epoch 15/100\n",
      "40000/40000 [==============================] - 18s 459us/step - loss: 0.5863 - acc: 0.7969 - val_loss: 0.6301 - val_acc: 0.7810\n",
      "Epoch 16/100\n",
      "40000/40000 [==============================] - 19s 470us/step - loss: 0.5727 - acc: 0.8007 - val_loss: 0.6180 - val_acc: 0.7913\n",
      "Epoch 17/100\n",
      "40000/40000 [==============================] - 18s 456us/step - loss: 0.5621 - acc: 0.8059 - val_loss: 0.6153 - val_acc: 0.7898\n",
      "Epoch 18/100\n",
      "40000/40000 [==============================] - 18s 458us/step - loss: 0.5504 - acc: 0.8091 - val_loss: 0.6003 - val_acc: 0.7962\n",
      "Epoch 19/100\n",
      "40000/40000 [==============================] - 18s 453us/step - loss: 0.5415 - acc: 0.8134 - val_loss: 0.6170 - val_acc: 0.7975\n",
      "Epoch 20/100\n",
      "40000/40000 [==============================] - 18s 458us/step - loss: 0.5329 - acc: 0.8168 - val_loss: 0.5918 - val_acc: 0.8027\n",
      "Epoch 21/100\n",
      "40000/40000 [==============================] - 18s 457us/step - loss: 0.5193 - acc: 0.8198 - val_loss: 0.6238 - val_acc: 0.7982\n",
      "Epoch 22/100\n",
      "40000/40000 [==============================] - 19s 463us/step - loss: 0.5166 - acc: 0.8225 - val_loss: 0.6037 - val_acc: 0.8047\n",
      "Epoch 23/100\n",
      "40000/40000 [==============================] - 18s 454us/step - loss: 0.5024 - acc: 0.8264 - val_loss: 0.6183 - val_acc: 0.8033\n",
      "Epoch 24/100\n",
      "40000/40000 [==============================] - 18s 455us/step - loss: 0.4973 - acc: 0.8296 - val_loss: 0.5655 - val_acc: 0.8121\n",
      "Epoch 25/100\n",
      "40000/40000 [==============================] - 18s 454us/step - loss: 0.4845 - acc: 0.8344 - val_loss: 0.5839 - val_acc: 0.8116\n",
      "Epoch 26/100\n",
      "40000/40000 [==============================] - 18s 455us/step - loss: 0.4798 - acc: 0.8359 - val_loss: 0.6258 - val_acc: 0.7961\n",
      "Epoch 27/100\n",
      "40000/40000 [==============================] - 18s 458us/step - loss: 0.4749 - acc: 0.8379 - val_loss: 0.5702 - val_acc: 0.8159\n",
      "Epoch 28/100\n",
      "40000/40000 [==============================] - 18s 457us/step - loss: 0.4684 - acc: 0.8404 - val_loss: 0.6228 - val_acc: 0.8064\n",
      "Epoch 29/100\n",
      "40000/40000 [==============================] - 18s 460us/step - loss: 0.4571 - acc: 0.8425 - val_loss: 0.5820 - val_acc: 0.8089\n",
      "Epoch 30/100\n",
      "40000/40000 [==============================] - 18s 458us/step - loss: 0.4548 - acc: 0.8436 - val_loss: 0.5885 - val_acc: 0.8130\n",
      "Epoch 31/100\n",
      "40000/40000 [==============================] - 19s 466us/step - loss: 0.4542 - acc: 0.8430 - val_loss: 0.6304 - val_acc: 0.8083\n",
      "Epoch 32/100\n",
      "40000/40000 [==============================] - 19s 468us/step - loss: 0.4449 - acc: 0.8471 - val_loss: 0.5847 - val_acc: 0.8106\n",
      "Epoch 33/100\n",
      "40000/40000 [==============================] - 19s 466us/step - loss: 0.4357 - acc: 0.8518 - val_loss: 0.5859 - val_acc: 0.8096\n",
      "Epoch 34/100\n",
      "40000/40000 [==============================] - 19s 465us/step - loss: 0.4365 - acc: 0.8512 - val_loss: 0.6009 - val_acc: 0.8098\n",
      "Epoch 35/100\n",
      "40000/40000 [==============================] - 19s 466us/step - loss: 0.4288 - acc: 0.8513 - val_loss: 0.5912 - val_acc: 0.8106\n",
      "Epoch 36/100\n",
      "40000/40000 [==============================] - 19s 464us/step - loss: 0.4262 - acc: 0.8553 - val_loss: 0.6259 - val_acc: 0.8027\n",
      "Epoch 37/100\n",
      "40000/40000 [==============================] - 19s 463us/step - loss: 0.4206 - acc: 0.8585 - val_loss: 0.5915 - val_acc: 0.8151\n",
      "Epoch 38/100\n",
      "40000/40000 [==============================] - 19s 464us/step - loss: 0.4127 - acc: 0.8587 - val_loss: 0.5957 - val_acc: 0.8156\n",
      "Epoch 39/100\n",
      "40000/40000 [==============================] - 19s 464us/step - loss: 0.4074 - acc: 0.8623 - val_loss: 0.5790 - val_acc: 0.8128\n",
      "Epoch 40/100\n",
      "40000/40000 [==============================] - 19s 469us/step - loss: 0.4067 - acc: 0.8627 - val_loss: 0.6132 - val_acc: 0.8147\n",
      "Epoch 41/100\n",
      "40000/40000 [==============================] - 19s 465us/step - loss: 0.4066 - acc: 0.8610 - val_loss: 0.7172 - val_acc: 0.8073\n",
      "Epoch 42/100\n",
      "40000/40000 [==============================] - 19s 466us/step - loss: 0.4005 - acc: 0.8638 - val_loss: 0.6409 - val_acc: 0.8070\n",
      "Epoch 43/100\n",
      "40000/40000 [==============================] - 19s 464us/step - loss: 0.3956 - acc: 0.8682 - val_loss: 0.6114 - val_acc: 0.8130\n",
      "Epoch 44/100\n",
      "40000/40000 [==============================] - 19s 464us/step - loss: 0.3987 - acc: 0.8669 - val_loss: 0.6201 - val_acc: 0.8150\n",
      "Epoch 45/100\n",
      "40000/40000 [==============================] - 19s 463us/step - loss: 0.3885 - acc: 0.8681 - val_loss: 0.6450 - val_acc: 0.8149\n",
      "Epoch 46/100\n",
      "40000/40000 [==============================] - 18s 453us/step - loss: 0.3873 - acc: 0.8700 - val_loss: 0.6176 - val_acc: 0.8107\n",
      "Epoch 47/100\n",
      "40000/40000 [==============================] - 18s 462us/step - loss: 0.3865 - acc: 0.8701 - val_loss: 0.6516 - val_acc: 0.8171\n",
      "Epoch 48/100\n",
      "40000/40000 [==============================] - 18s 459us/step - loss: 0.3836 - acc: 0.8733 - val_loss: 0.5892 - val_acc: 0.8194\n",
      "Epoch 49/100\n",
      "40000/40000 [==============================] - 18s 461us/step - loss: 0.3805 - acc: 0.8718 - val_loss: 0.6568 - val_acc: 0.8174\n",
      "Epoch 50/100\n",
      "40000/40000 [==============================] - 19s 467us/step - loss: 0.3749 - acc: 0.8747 - val_loss: 0.6760 - val_acc: 0.8135\n",
      "Epoch 51/100\n",
      "40000/40000 [==============================] - 19s 464us/step - loss: 0.3723 - acc: 0.8758 - val_loss: 0.6836 - val_acc: 0.8217\n",
      "Epoch 52/100\n",
      "40000/40000 [==============================] - 19s 465us/step - loss: 0.3709 - acc: 0.8770 - val_loss: 0.6290 - val_acc: 0.8211\n",
      "Epoch 53/100\n",
      "40000/40000 [==============================] - 19s 466us/step - loss: 0.3684 - acc: 0.8786 - val_loss: 0.6876 - val_acc: 0.8122\n",
      "Epoch 54/100\n",
      "40000/40000 [==============================] - 19s 465us/step - loss: 0.3579 - acc: 0.8800 - val_loss: 0.6688 - val_acc: 0.8115\n",
      "Epoch 55/100\n",
      "40000/40000 [==============================] - 19s 467us/step - loss: 0.3614 - acc: 0.8804 - val_loss: 0.6338 - val_acc: 0.8156\n",
      "Epoch 56/100\n",
      "40000/40000 [==============================] - 19s 467us/step - loss: 0.3612 - acc: 0.8807 - val_loss: 0.6844 - val_acc: 0.8170\n",
      "Epoch 57/100\n",
      "40000/40000 [==============================] - 19s 470us/step - loss: 0.3597 - acc: 0.8805 - val_loss: 0.6476 - val_acc: 0.8184\n",
      "Epoch 58/100\n",
      "40000/40000 [==============================] - 19s 470us/step - loss: 0.3587 - acc: 0.8808 - val_loss: 0.5959 - val_acc: 0.8244\n"
     ]
    },
    {
     "name": "stdout",
     "output_type": "stream",
     "text": [
      "Epoch 59/100\n",
      "40000/40000 [==============================] - 19s 467us/step - loss: 0.3560 - acc: 0.8817 - val_loss: 0.6533 - val_acc: 0.8195\n",
      "Epoch 60/100\n",
      "40000/40000 [==============================] - 18s 461us/step - loss: 0.3492 - acc: 0.8843 - val_loss: 0.6281 - val_acc: 0.8249\n",
      "Epoch 61/100\n",
      "40000/40000 [==============================] - 19s 466us/step - loss: 0.3476 - acc: 0.8832 - val_loss: 0.7294 - val_acc: 0.8128\n",
      "Epoch 62/100\n",
      "40000/40000 [==============================] - 19s 464us/step - loss: 0.3516 - acc: 0.8861 - val_loss: 0.6852 - val_acc: 0.8165\n",
      "Epoch 63/100\n",
      "40000/40000 [==============================] - 18s 462us/step - loss: 0.3558 - acc: 0.8837 - val_loss: 0.6841 - val_acc: 0.8187\n",
      "Epoch 64/100\n",
      "40000/40000 [==============================] - 18s 459us/step - loss: 0.3487 - acc: 0.8853 - val_loss: 0.6191 - val_acc: 0.8253\n",
      "Epoch 65/100\n",
      "40000/40000 [==============================] - 18s 462us/step - loss: 0.3451 - acc: 0.8863 - val_loss: 0.7187 - val_acc: 0.8067\n",
      "Epoch 66/100\n",
      "40000/40000 [==============================] - 19s 465us/step - loss: 0.3417 - acc: 0.8891 - val_loss: 0.6776 - val_acc: 0.8230\n",
      "Epoch 67/100\n",
      "40000/40000 [==============================] - 18s 461us/step - loss: 0.3391 - acc: 0.8881 - val_loss: 0.6855 - val_acc: 0.8247\n",
      "Epoch 68/100\n",
      "40000/40000 [==============================] - 19s 465us/step - loss: 0.3360 - acc: 0.8903 - val_loss: 0.6362 - val_acc: 0.8171\n",
      "Epoch 69/100\n",
      "40000/40000 [==============================] - 19s 464us/step - loss: 0.3418 - acc: 0.8888 - val_loss: 0.7194 - val_acc: 0.8102\n",
      "Epoch 70/100\n",
      "40000/40000 [==============================] - 19s 464us/step - loss: 0.3369 - acc: 0.8905 - val_loss: 0.7394 - val_acc: 0.8202\n",
      "Epoch 71/100\n",
      "40000/40000 [==============================] - 19s 463us/step - loss: 0.3425 - acc: 0.8879 - val_loss: 0.7438 - val_acc: 0.8136\n",
      "Epoch 72/100\n",
      "40000/40000 [==============================] - 19s 463us/step - loss: 0.3351 - acc: 0.8897 - val_loss: 0.7255 - val_acc: 0.8027\n",
      "Epoch 73/100\n",
      "40000/40000 [==============================] - 18s 462us/step - loss: 0.3419 - acc: 0.8899 - val_loss: 0.7898 - val_acc: 0.7996\n",
      "Epoch 74/100\n",
      "40000/40000 [==============================] - 18s 461us/step - loss: 0.3310 - acc: 0.8934 - val_loss: 0.6158 - val_acc: 0.8205\n",
      "Epoch 75/100\n",
      "40000/40000 [==============================] - 18s 462us/step - loss: 0.3352 - acc: 0.8914 - val_loss: 0.6799 - val_acc: 0.8151\n",
      "Epoch 76/100\n",
      "40000/40000 [==============================] - 19s 467us/step - loss: 0.3304 - acc: 0.8928 - val_loss: 0.7620 - val_acc: 0.8042\n",
      "Epoch 77/100\n",
      "40000/40000 [==============================] - 18s 451us/step - loss: 0.3336 - acc: 0.8927 - val_loss: 0.6699 - val_acc: 0.8217\n",
      "Epoch 78/100\n",
      "40000/40000 [==============================] - 18s 459us/step - loss: 0.3326 - acc: 0.8922 - val_loss: 0.7164 - val_acc: 0.8113\n",
      "Epoch 79/100\n",
      "40000/40000 [==============================] - 19s 469us/step - loss: 0.3287 - acc: 0.8925 - val_loss: 0.6481 - val_acc: 0.8199\n",
      "Epoch 80/100\n",
      "40000/40000 [==============================] - 19s 467us/step - loss: 0.3301 - acc: 0.8949 - val_loss: 0.7628 - val_acc: 0.8067\n",
      "Epoch 81/100\n",
      "40000/40000 [==============================] - 18s 457us/step - loss: 0.3302 - acc: 0.8941 - val_loss: 0.6256 - val_acc: 0.8264\n",
      "Epoch 82/100\n",
      "40000/40000 [==============================] - 19s 464us/step - loss: 0.3329 - acc: 0.8926 - val_loss: 0.6847 - val_acc: 0.8196\n",
      "Epoch 83/100\n",
      "40000/40000 [==============================] - 19s 464us/step - loss: 0.3300 - acc: 0.8931 - val_loss: 0.6771 - val_acc: 0.8203\n",
      "Epoch 84/100\n",
      "40000/40000 [==============================] - 18s 456us/step - loss: 0.3268 - acc: 0.8959 - val_loss: 0.6764 - val_acc: 0.8084\n",
      "Epoch 85/100\n",
      "40000/40000 [==============================] - 18s 460us/step - loss: 0.3247 - acc: 0.8959 - val_loss: 0.7180 - val_acc: 0.8142\n",
      "Epoch 86/100\n",
      "40000/40000 [==============================] - 19s 463us/step - loss: 0.3235 - acc: 0.8964 - val_loss: 0.7025 - val_acc: 0.8193\n",
      "Epoch 87/100\n",
      "40000/40000 [==============================] - 18s 462us/step - loss: 0.3272 - acc: 0.8946 - val_loss: 0.6477 - val_acc: 0.8232\n",
      "Epoch 88/100\n",
      "40000/40000 [==============================] - 19s 464us/step - loss: 0.3270 - acc: 0.8957 - val_loss: 0.6110 - val_acc: 0.8160\n",
      "Epoch 89/100\n",
      "40000/40000 [==============================] - 19s 470us/step - loss: 0.3263 - acc: 0.8976 - val_loss: 0.5899 - val_acc: 0.8328\n",
      "Epoch 90/100\n",
      "40000/40000 [==============================] - 29s 713us/step - loss: 0.3229 - acc: 0.8964 - val_loss: 0.6637 - val_acc: 0.8184\n",
      "Epoch 91/100\n",
      "40000/40000 [==============================] - 592s 15ms/step - loss: 0.3234 - acc: 0.8972 - val_loss: 0.7242 - val_acc: 0.8181\n",
      "Epoch 92/100\n",
      "40000/40000 [==============================] - 155s 4ms/step - loss: 0.3197 - acc: 0.8984 - val_loss: 0.6030 - val_acc: 0.8272\n",
      "Epoch 93/100\n",
      "40000/40000 [==============================] - 19s 463us/step - loss: 0.3223 - acc: 0.8972 - val_loss: 0.6427 - val_acc: 0.8204\n",
      "Epoch 94/100\n",
      "40000/40000 [==============================] - 19s 471us/step - loss: 0.3224 - acc: 0.8961 - val_loss: 0.6466 - val_acc: 0.8147\n",
      "Epoch 95/100\n",
      "40000/40000 [==============================] - 19s 468us/step - loss: 0.3288 - acc: 0.8957 - val_loss: 0.6395 - val_acc: 0.8190\n",
      "Epoch 96/100\n",
      "40000/40000 [==============================] - 18s 460us/step - loss: 0.3213 - acc: 0.8970 - val_loss: 0.6443 - val_acc: 0.8123\n",
      "Epoch 97/100\n",
      "40000/40000 [==============================] - 18s 452us/step - loss: 0.3255 - acc: 0.8967 - val_loss: 0.7429 - val_acc: 0.8207\n",
      "Epoch 98/100\n",
      "40000/40000 [==============================] - 18s 454us/step - loss: 0.3214 - acc: 0.8972 - val_loss: 0.6647 - val_acc: 0.8156\n",
      "Epoch 99/100\n",
      "40000/40000 [==============================] - 18s 456us/step - loss: 0.3214 - acc: 0.8989 - val_loss: 0.6175 - val_acc: 0.8267\n",
      "Epoch 100/100\n",
      "40000/40000 [==============================] - 18s 452us/step - loss: 0.3258 - acc: 0.8959 - val_loss: 0.7391 - val_acc: 0.8174\n"
     ]
    }
   ],
   "source": [
    "history = model.fit(x_tr, y_tr, batch_size=64, epochs=100, validation_data=(x_val, y_val))"
   ]
  },
  {
   "cell_type": "code",
   "execution_count": 17,
   "metadata": {},
   "outputs": [
    {
     "data": {
      "image/png": "[encoded data removed]",
      "text/plain": [
       "<Figure size 432x288 with 1 Axes>"
      ]
     },
     "metadata": {},
     "output_type": "display_data"
    }
   ],
   "source": [
    "import matplotlib.pyplot as plt\n",
    "%matplotlib inline\n",
    "\n",
    "acc = history.history['acc']\n",
    "val_acc = history.history['val_acc']\n",
    "\n",
    "epochs = range(len(acc))\n",
    "\n",
    "plt.plot(epochs, acc, 'bo', label='Training acc')\n",
    "plt.plot(epochs, val_acc, 'r', label='Validation acc')\n",
    "plt.xlabel('Epochs')\n",
    "plt.ylabel('Accuracy')\n",
    "plt.legend()\n",
    "plt.show()"
   ]
  },
  {
   "cell_type": "code",
   "execution_count": 18,
   "metadata": {},
   "outputs": [
    {
     "data": {
      "image/png": "[encoded data removed]",
      "text/plain": [
       "<Figure size 432x288 with 1 Axes>"
      ]
     },
     "metadata": {},
     "output_type": "display_data"
    }
   ],
   "source": [
    "loss = history.history['loss']\n",
    "val_loss = history.history['val_loss']\n",
    "\n",
    "epochs = range(len(loss))\n",
    "\n",
    "plt.plot(epochs, loss, 'bo', label='Training loss')\n",
    "plt.plot(epochs, val_loss, 'r', label='Validation loss')\n",
    "plt.xlabel('Epochs')\n",
    "plt.ylabel('Loss')\n",
    "plt.legend()\n",
    "plt.show()"
   ]
  },
  {
   "cell_type": "markdown",
   "metadata": {},
   "source": [
    "## 3. Train (again) and evaluate the model\n",
    "\n",
    "- To this end, you have found the \"best\" hyper-parameters. \n",
    "- Now, fix the hyper-parameters and train the network on the entire training set (all the 50K training samples)\n",
    "- Evaluate your model on the test set."
   ]
  },
  {
   "cell_type": "markdown",
   "metadata": {},
   "source": [
    "### 3.1. Train the model on the entire training set\n",
    "\n",
    "Why? Previously, you used 40K samples for training; you wasted 10K samples for the sake of hyper-parameter tuning. Now you already know the hyper-parameters, so why not using all the 50K samples for training?"
   ]
  },
  {
   "cell_type": "code",
   "execution_count": 19,
   "metadata": {},
   "outputs": [],
   "source": [
    "learning_rate = 1E-4 # to be tuned!\n",
    "\n",
    "model.compile(loss='categorical_crossentropy',\n",
    "              optimizer=optimizers.RMSprop(lr=learning_rate, decay=1e-6),\n",
    "              metrics=['acc'])"
   ]
  },
  {
   "cell_type": "code",
   "execution_count": 20,
   "metadata": {},
   "outputs": [
    {
     "name": "stdout",
     "output_type": "stream",
     "text": [
      "Epoch 1/24\n",
      "50000/50000 [==============================] - 22s 442us/step - loss: 0.4456 - acc: 0.8639\n",
      "Epoch 2/24\n",
      "50000/50000 [==============================] - 21s 422us/step - loss: 0.4383 - acc: 0.8644\n",
      "Epoch 3/24\n",
      "50000/50000 [==============================] - 21s 420us/step - loss: 0.4336 - acc: 0.8643\n",
      "Epoch 4/24\n",
      "50000/50000 [==============================] - 21s 421us/step - loss: 0.4278 - acc: 0.8661\n",
      "Epoch 5/24\n",
      "50000/50000 [==============================] - 21s 420us/step - loss: 0.4282 - acc: 0.8644\n",
      "Epoch 6/24\n",
      "50000/50000 [==============================] - 22s 431us/step - loss: 0.4239 - acc: 0.8680\n",
      "Epoch 7/24\n",
      "50000/50000 [==============================] - 22s 430us/step - loss: 0.4252 - acc: 0.8648\n",
      "Epoch 8/24\n",
      "50000/50000 [==============================] - 22s 433us/step - loss: 0.4309 - acc: 0.8646\n",
      "Epoch 9/24\n",
      "50000/50000 [==============================] - 21s 430us/step - loss: 0.4191 - acc: 0.8668\n",
      "Epoch 10/24\n",
      "50000/50000 [==============================] - 21s 429us/step - loss: 0.4128 - acc: 0.8678\n",
      "Epoch 11/24\n",
      "50000/50000 [==============================] - 21s 426us/step - loss: 0.4243 - acc: 0.8641\n",
      "Epoch 12/24\n",
      "50000/50000 [==============================] - 21s 420us/step - loss: 0.4218 - acc: 0.8653\n",
      "Epoch 13/24\n",
      "50000/50000 [==============================] - 21s 420us/step - loss: 0.4204 - acc: 0.8669\n",
      "Epoch 14/24\n",
      "50000/50000 [==============================] - 21s 421us/step - loss: 0.4103 - acc: 0.8692\n",
      "Epoch 15/24\n",
      "50000/50000 [==============================] - 21s 421us/step - loss: 0.4203 - acc: 0.8656\n",
      "Epoch 16/24\n",
      "50000/50000 [==============================] - 21s 417us/step - loss: 0.4169 - acc: 0.8643\n",
      "Epoch 17/24\n",
      "50000/50000 [==============================] - 21s 419us/step - loss: 0.4165 - acc: 0.8672\n",
      "Epoch 18/24\n",
      "50000/50000 [==============================] - 21s 423us/step - loss: 0.4216 - acc: 0.8654\n",
      "Epoch 19/24\n",
      "50000/50000 [==============================] - 21s 422us/step - loss: 0.4051 - acc: 0.8690\n",
      "Epoch 20/24\n",
      "50000/50000 [==============================] - 21s 420us/step - loss: 0.4159 - acc: 0.8663\n",
      "Epoch 21/24\n",
      "50000/50000 [==============================] - 21s 419us/step - loss: 0.4217 - acc: 0.8654\n",
      "Epoch 22/24\n",
      "50000/50000 [==============================] - 21s 424us/step - loss: 0.4148 - acc: 0.8669\n",
      "Epoch 23/24\n",
      "50000/50000 [==============================] - 21s 422us/step - loss: 0.4190 - acc: 0.8666\n",
      "Epoch 24/24\n",
      "50000/50000 [==============================] - 21s 425us/step - loss: 0.4089 - acc: 0.8688\n"
     ]
    }
   ],
   "source": [
    "history = model.fit(x_train, y_train_vec, batch_size=64, epochs=24)"
   ]
  },
  {
   "cell_type": "markdown",
   "metadata": {},
   "source": [
    "### 3.2. Evaluate the model on the test set\n",
    "\n",
    "Do NOT used the test set until now. Make sure that your model parameters and hyper-parameters are independent of the test set."
   ]
  },
  {
   "cell_type": "code",
   "execution_count": 21,
   "metadata": {},
   "outputs": [
    {
     "name": "stdout",
     "output_type": "stream",
     "text": [
      "10000/10000 [==============================] - 2s 216us/step\n",
      "loss = 0.5820594079494477\n",
      "accuracy = 0.8233\n"
     ]
    }
   ],
   "source": [
    "loss_and_acc = model.evaluate(x_test, y_test_vec)\n",
    "print('loss = ' + str(loss_and_acc[0]))\n",
    "print('accuracy = ' + str(loss_and_acc[1]))"
   ]
  }
 ],
 "metadata": {
  "kernelspec": {
   "display_name": "Python 3",
   "language": "python",
   "name": "python3"
  },
  "language_info": {
   "codemirror_mode": {
    "name": "ipython",
    "version": 3
   },
   "file_extension": ".py",
   "mimetype": "text/x-python",
   "name": "python",
   "nbconvert_exporter": "python",
   "pygments_lexer": "ipython3",
   "version": "3.5.0"
  }
 },
 "nbformat": 4,
 "nbformat_minor": 2
}
