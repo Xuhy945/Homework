{
 "cells": [
  {
   "cell_type": "markdown",
   "metadata": {},
   "source": [
    "# HM2: Numerical Optimization for Logistic Regression.\n",
    "\n",
    "### Name: [Your-Name?]\n"
   ]
  },
  {
   "cell_type": "markdown",
   "metadata": {},
   "source": [
    "## 0. You will do the following:\n",
    "\n",
    "1. Read the lecture note: [click here](https://github.com/wangshusen/DeepLearning/blob/master/LectureNotes/Logistic/paper/logistic.pdf)\n",
    "\n",
    "2. Read, complete, and run my code.\n",
    "\n",
    "3. **Implement mini-batch SGD** and evaluate the performance.\n",
    "\n",
    "4. Convert the .IPYNB file to .HTML file.\n",
    "\n",
    "    * The HTML file must contain **the code** and **the output after execution**.\n",
    "    \n",
    "    * Missing **the output after execution** will not be graded.\n",
    "    \n",
    "5. Upload this .HTML file to your Google Drive, Dropbox, or your Github repo.  (If you submit the file to Google Drive or Dropbox, you must make the file \"open-access\". The delay caused by \"deny of access\" may result in late penalty.)\n",
    "\n",
    "6. Submit the link to this .HTML file to Canvas.\n",
    "\n",
    "    * Example: https://github.com/wangshusen/CS583-2020S/blob/master/homework/HM2/HM2.html\n",
    "\n",
    "\n",
    "## Grading criteria:\n",
    "\n",
    "1. When computing the ```gradient``` and ```objective function value``` using a batch of samples, use **matrix-vector multiplication** rather than a FOR LOOP of **vector-vector multiplications**.\n",
    "\n",
    "2. Plot ```objective function value``` against ```epochs```. In the plot, compare GD, SGD, and MB-SGD (with $b=8$ and $b=64$). The plot must look reasonable."
   ]
  },
  {
   "cell_type": "markdown",
   "metadata": {},
   "source": [
    "# 1. Data processing\n",
    "\n",
    "- Download the Diabete dataset from https://www.csie.ntu.edu.tw/~cjlin/libsvmtools/datasets/binary/diabetes\n",
    "- Load the data using sklearn.\n",
    "- Preprocess the data."
   ]
  },
  {
   "cell_type": "markdown",
   "metadata": {},
   "source": [
    "## 1.1. Load the data"
   ]
  },
  {
   "cell_type": "code",
   "execution_count": 1,
   "metadata": {},
   "outputs": [
    {
     "name": "stdout",
     "output_type": "stream",
     "text": [
      "Shape of x: (768, 8)\n",
      "Shape of y: (768,)\n"
     ]
    }
   ],
   "source": [
    "from sklearn import datasets\n",
    "import numpy\n",
    "\n",
    "x_sparse, y = datasets.load_svmlight_file('diabetes')\n",
    "x = x_sparse.todense()\n",
    "\n",
    "print('Shape of x: ' + str(x.shape))\n",
    "print('Shape of y: ' + str(y.shape))"
   ]
  },
  {
   "cell_type": "markdown",
   "metadata": {},
   "source": [
    "## 1.2. Partition to training and test sets"
   ]
  },
  {
   "cell_type": "code",
   "execution_count": 2,
   "metadata": {},
   "outputs": [
    {
     "name": "stdout",
     "output_type": "stream",
     "text": [
      "Shape of x_train: (640, 8)\n",
      "Shape of x_test: (128, 8)\n",
      "Shape of y_train: (640, 1)\n",
      "Shape of y_test: (128, 1)\n"
     ]
    }
   ],
   "source": [
    "# partition the data to training and test sets\n",
    "n = x.shape[0]\n",
    "n_train = 640\n",
    "n_test = n - n_train\n",
    "\n",
    "rand_indices = numpy.random.permutation(n)\n",
    "train_indices = rand_indices[0:n_train]\n",
    "test_indices = rand_indices[n_train:n]\n",
    "\n",
    "x_train = x[train_indices, :]\n",
    "x_test = x[test_indices, :]\n",
    "y_train = y[train_indices].reshape(n_train, 1)\n",
    "y_test = y[test_indices].reshape(n_test, 1)\n",
    "\n",
    "print('Shape of x_train: ' + str(x_train.shape))\n",
    "print('Shape of x_test: ' + str(x_test.shape))\n",
    "print('Shape of y_train: ' + str(y_train.shape))\n",
    "print('Shape of y_test: ' + str(y_test.shape))"
   ]
  },
  {
   "cell_type": "markdown",
   "metadata": {},
   "source": [
    "## 1.3. Feature scaling"
   ]
  },
  {
   "cell_type": "markdown",
   "metadata": {},
   "source": [
    "Use the standardization to trainsform both training and test features"
   ]
  },
  {
   "cell_type": "code",
   "execution_count": 3,
   "metadata": {},
   "outputs": [
    {
     "name": "stdout",
     "output_type": "stream",
     "text": [
      "test mean = \n",
      "[[-0.03063042  0.04187228  0.11185966  0.05382292  0.07310625 -0.00343875\n",
      "  -0.0591045  -0.01953945]]\n",
      "test std = \n",
      "[[0.90754666 1.20902055 0.94974209 1.07553453 1.14942176 0.8709242\n",
      "  0.95585277 0.91499524]]\n"
     ]
    }
   ],
   "source": [
    "# Standardization\n",
    "import numpy\n",
    "\n",
    "# calculate mu and sig using the training set\n",
    "d = x_train.shape[1]\n",
    "mu = numpy.mean(x_train, axis=0).reshape(1, d)\n",
    "sig = numpy.std(x_train, axis=0).reshape(1, d)\n",
    "\n",
    "# transform the training features\n",
    "x_train = (x_train - mu) / (sig + 1E-6)\n",
    "\n",
    "# transform the test features\n",
    "x_test = (x_test - mu) / (sig + 1E-6)\n",
    "\n",
    "print('test mean = ')\n",
    "print(numpy.mean(x_test, axis=0))\n",
    "\n",
    "print('test std = ')\n",
    "print(numpy.std(x_test, axis=0))"
   ]
  },
  {
   "cell_type": "markdown",
   "metadata": {},
   "source": [
    "## 1.4. Add a dimension of all ones"
   ]
  },
  {
   "cell_type": "code",
   "execution_count": 4,
   "metadata": {},
   "outputs": [
    {
     "name": "stdout",
     "output_type": "stream",
     "text": [
      "Shape of x_train: (640, 9)\n",
      "Shape of x_test: (128, 9)\n"
     ]
    }
   ],
   "source": [
    "n_train, d = x_train.shape\n",
    "x_train = numpy.concatenate((x_train, numpy.ones((n_train, 1))), axis=1)\n",
    "\n",
    "n_test, d = x_test.shape\n",
    "x_test = numpy.concatenate((x_test, numpy.ones((n_test, 1))), axis=1)\n",
    "\n",
    "print('Shape of x_train: ' + str(x_train.shape))\n",
    "print('Shape of x_test: ' + str(x_test.shape))"
   ]
  },
  {
   "cell_type": "markdown",
   "metadata": {},
   "source": [
    "# 2. Logistic regression model\n",
    "\n",
    "The objective function is $Q (w; X, y) = \\frac{1}{n} \\sum_{i=1}^n \\log \\Big( 1 + \\exp \\big( - y_i x_i^T w \\big) \\Big) + \\frac{\\lambda}{2} \\| w \\|_2^2 $."
   ]
  },
  {
   "cell_type": "code",
   "execution_count": 5,
   "metadata": {},
   "outputs": [],
   "source": [
    "# Calculate the objective function value\n",
    "# Inputs:\n",
    "#     w: d-by-1 matrix\n",
    "#     x: n-by-d matrix\n",
    "#     y: n-by-1 matrix\n",
    "#     lam: scalar, the regularization parameter\n",
    "# Return: \n",
    "#     objective function value (scalar)\n",
    "def objective(w, x, y, lam):\n",
    "    n, d = x.shape\n",
    "    yx = numpy.multiply(y, x) # n-by-d matrix\n",
    "    yxw = numpy.dot(yx, w) # n-by-1 matrix\n",
    "    vec1 = numpy.exp(-yxw) # n-by-1 matrix\n",
    "    vec2 = numpy.log(1 + vec1) # n-by-1 matrix\n",
    "    loss = numpy.mean(vec2) # scalar\n",
    "    reg = lam / 2 * numpy.sum(w * w) # scalar\n",
    "    return loss + reg\n",
    "    "
   ]
  },
  {
   "cell_type": "code",
   "execution_count": 6,
   "metadata": {},
   "outputs": [
    {
     "name": "stdout",
     "output_type": "stream",
     "text": [
      "Initial objective function value = 0.6931471805599453\n"
     ]
    }
   ],
   "source": [
    "# initialize w\n",
    "d = x_train.shape[1]\n",
    "w = numpy.zeros((d, 1))\n",
    "\n",
    "# evaluate the objective function value at w\n",
    "lam = 1E-6\n",
    "objval0 = objective(w, x_train, y_train, lam)\n",
    "print('Initial objective function value = ' + str(objval0))"
   ]
  },
  {
   "cell_type": "markdown",
   "metadata": {},
   "source": [
    "# 3. Numerical optimization"
   ]
  },
  {
   "cell_type": "markdown",
   "metadata": {},
   "source": [
    "## 3.1. Gradient descent\n"
   ]
  },
  {
   "cell_type": "markdown",
   "metadata": {},
   "source": [
    "The gradient at $w$ is $g = - \\frac{1}{n} \\sum_{i=1}^n \\frac{y_i x_i }{1 + \\exp ( y_i x_i^T w)} + \\lambda w$"
   ]
  },
  {
   "cell_type": "code",
   "execution_count": 7,
   "metadata": {},
   "outputs": [],
   "source": [
    "# Calculate the gradient\n",
    "# Inputs:\n",
    "#     w: d-by-1 matrix\n",
    "#     x: n-by-d matrix\n",
    "#     y: n-by-1 matrix\n",
    "#     lam: scalar, the regularization parameter\n",
    "# Return:\n",
    "#     g: g: d-by-1 matrix, full gradient\n",
    "def gradient(w, x, y, lam):\n",
    "    n, d = x.shape\n",
    "    yx = numpy.multiply(y, x) # n-by-d matrix\n",
    "    yxw = numpy.dot(yx, w) # n-by-1 matrix\n",
    "    vec1 = numpy.exp(yxw) # n-by-1 matrix\n",
    "    vec2 = numpy.divide(yx, 1+vec1) # n-by-d matrix\n",
    "    vec3 = -numpy.mean(vec2, axis=0).reshape(d,1) # d-by-1 matrix\n",
    "    g = vec3 + lam * w\n",
    "    return g"
   ]
  },
  {
   "cell_type": "code",
   "execution_count": 8,
   "metadata": {},
   "outputs": [],
   "source": [
    "# Gradient descent for solving logistic regression\n",
    "# Inputs:\n",
    "#     x: n-by-d matrix\n",
    "#     y: n-by-1 matrix\n",
    "#     lam: scalar, the regularization parameter\n",
    "#     stepsize: scalar\n",
    "#     max_iter: integer, the maximal iterations\n",
    "#     w: d-by-1 matrix, initialization of w\n",
    "# Return:\n",
    "#     w: d-by-1 matrix, the solution\n",
    "#     objvals: a record of each iteration's objective value\n",
    "def grad_descent(x, y, lam, stepsize, max_iter=100, w=None):\n",
    "    n, d = x.shape\n",
    "    objvals = numpy.zeros(max_iter) # store the objective values\n",
    "    if w is None:\n",
    "        w = numpy.zeros((d, 1)) # zero initialization\n",
    "    \n",
    "    for t in range(max_iter):\n",
    "        objval = objective(w, x, y, lam)\n",
    "        objvals[t] = objval\n",
    "        print('Objective value at t=' + str(t) + ' is ' + str(objval))\n",
    "        g = gradient(w, x, y, lam)\n",
    "        w -= stepsize * g\n",
    "    \n",
    "    return w, objvals"
   ]
  },
  {
   "cell_type": "markdown",
   "metadata": {},
   "source": [
    "Run gradient descent."
   ]
  },
  {
   "cell_type": "code",
   "execution_count": 9,
   "metadata": {},
   "outputs": [
    {
     "name": "stdout",
     "output_type": "stream",
     "text": [
      "Objective value at t=0 is 0.6931471805599453\n",
      "Objective value at t=1 is 0.5876083881939491\n",
      "Objective value at t=2 is 0.5447270040702195\n",
      "Objective value at t=3 is 0.5216137086773605\n",
      "Objective value at t=4 is 0.5072264354305657\n",
      "Objective value at t=5 is 0.49753705483424604\n",
      "Objective value at t=6 is 0.4906835809294489\n",
      "Objective value at t=7 is 0.4856695639227348\n",
      "Objective value at t=8 is 0.481908340121061\n",
      "Objective value at t=9 is 0.47903116161330483\n",
      "Objective value at t=10 is 0.4767950677730343\n",
      "Objective value at t=11 is 0.47503416457501674\n",
      "Objective value at t=12 is 0.4736319374579797\n",
      "Objective value at t=13 is 0.47250463555011724\n",
      "Objective value at t=14 is 0.4715908694071932\n",
      "Objective value at t=15 is 0.47084487527028845\n",
      "Objective value at t=16 is 0.47023203089571225\n",
      "Objective value at t=17 is 0.46972579957550126\n",
      "Objective value at t=18 is 0.4693056048366757\n",
      "Objective value at t=19 is 0.46895532572917276\n",
      "Objective value at t=20 is 0.468662214310962\n",
      "Objective value at t=21 is 0.46841610551807183\n",
      "Objective value at t=22 is 0.4682088327909427\n",
      "Objective value at t=23 is 0.4680337906227072\n",
      "Objective value at t=24 is 0.4678856034323814\n",
      "Objective value at t=25 is 0.46775987234081934\n",
      "Objective value at t=26 is 0.46765297968305736\n",
      "Objective value at t=27 is 0.4675619367697472\n",
      "Objective value at t=28 is 0.46748426436905666\n",
      "Objective value at t=29 is 0.46741789817409846\n",
      "Objective value at t=30 is 0.4673611135153547\n",
      "Objective value at t=31 is 0.46731246501685014\n",
      "Objective value at t=32 is 0.4672707379441861\n",
      "Objective value at t=33 is 0.46723490876498863\n",
      "Objective value at t=34 is 0.46720411301614906\n",
      "Objective value at t=35 is 0.46717761900221444\n",
      "Objective value at t=36 is 0.46715480617409827\n",
      "Objective value at t=37 is 0.46713514728460354\n",
      "Objective value at t=38 is 0.46711819360692847\n",
      "Objective value at t=39 is 0.467103562648834\n",
      "Objective value at t=40 is 0.46709092790907436\n",
      "Objective value at t=41 is 0.4670800103118237\n",
      "Objective value at t=42 is 0.46707057102500016\n",
      "Objective value at t=43 is 0.46706240542393673\n",
      "Objective value at t=44 is 0.467055338006062\n",
      "Objective value at t=45 is 0.46704921809762173\n",
      "Objective value at t=46 is 0.46704391622191327\n",
      "Objective value at t=47 is 0.46703932102146467\n",
      "Objective value at t=48 is 0.46703533664521607\n",
      "Objective value at t=49 is 0.46703188052693523\n",
      "Objective value at t=50 is 0.46702888149349453\n",
      "Objective value at t=51 is 0.46702627815181685\n",
      "Objective value at t=52 is 0.4670240175116764\n",
      "Objective value at t=53 is 0.4670220538084603\n",
      "Objective value at t=54 is 0.4670203474957317\n",
      "Objective value at t=55 is 0.4670188643821995\n",
      "Objective value at t=56 is 0.46701757489167095\n",
      "Objective value at t=57 is 0.467016453427877\n",
      "Objective value at t=58 is 0.46701547782883884\n",
      "Objective value at t=59 is 0.46701462889777023\n",
      "Objective value at t=60 is 0.4670138899994741\n",
      "Objective value at t=61 is 0.4670132467128361\n",
      "Objective value at t=62 is 0.46701268653141675\n",
      "Objective value at t=63 is 0.46701219860531745\n",
      "Objective value at t=64 is 0.46701177351849593\n",
      "Objective value at t=65 is 0.4670114030965519\n",
      "Objective value at t=66 is 0.46701108024072224\n",
      "Objective value at t=67 is 0.4670107987844387\n",
      "Objective value at t=68 is 0.46701055336931857\n",
      "Objective value at t=69 is 0.4670103393379062\n",
      "Objective value at t=70 is 0.46701015264086093\n",
      "Objective value at t=71 is 0.4670099897566099\n",
      "Objective value at t=72 is 0.46700984762176556\n",
      "Objective value at t=73 is 0.4670097235708393\n",
      "Objective value at t=74 is 0.4670096152839913\n",
      "Objective value at t=75 is 0.4670095207417281\n",
      "Objective value at t=76 is 0.467009438185611\n",
      "Objective value at t=77 is 0.4670093660841661\n",
      "Objective value at t=78 is 0.46700930310329725\n",
      "Objective value at t=79 is 0.46700924808059985\n",
      "Objective value at t=80 is 0.4670092000030547\n",
      "Objective value at t=81 is 0.46700915798765047\n",
      "Objective value at t=82 is 0.4670091212645463\n",
      "Objective value at t=83 is 0.4670090891624378\n",
      "Objective value at t=84 is 0.4670090610958336\n",
      "Objective value at t=85 is 0.4670090365539917\n",
      "Objective value at t=86 is 0.46700901509129544\n",
      "Objective value at t=87 is 0.4670089963188804\n",
      "Objective value at t=88 is 0.46700897989734774\n",
      "Objective value at t=89 is 0.46700896553042165\n",
      "Objective value at t=90 is 0.4670089529594271\n",
      "Objective value at t=91 is 0.46700894195848097\n",
      "Objective value at t=92 is 0.46700893233030333\n",
      "Objective value at t=93 is 0.4670089239025686\n",
      "Objective value at t=94 is 0.4670089165247258\n",
      "Objective value at t=95 is 0.46700891006522716\n",
      "Objective value at t=96 is 0.46700890440911247\n",
      "Objective value at t=97 is 0.46700889945590257\n",
      "Objective value at t=98 is 0.46700889511776295\n",
      "Objective value at t=99 is 0.4670088913179018\n"
     ]
    }
   ],
   "source": [
    "lam = 1E-6\n",
    "stepsize = 1.0\n",
    "w, objvals_gd = grad_descent(x_train, y_train, lam, stepsize)"
   ]
  },
  {
   "cell_type": "markdown",
   "metadata": {},
   "source": [
    "## 3.2. Stochastic gradient descent (SGD)\n",
    "\n",
    "Define $Q_i (w) = \\log \\Big( 1 + \\exp \\big( - y_i x_i^T w \\big) \\Big) + \\frac{\\lambda}{2} \\| w \\|_2^2 $.\n",
    "\n",
    "The stochastic gradient at $w$ is $g_i = \\frac{\\partial Q_i }{ \\partial w} = -\\frac{y_i x_i }{1 + \\exp ( y_i x_i^T w)} + \\lambda w$."
   ]
  },
  {
   "cell_type": "code",
   "execution_count": 12,
   "metadata": {},
   "outputs": [],
   "source": [
    "# Calculate the objective Q_i and the gradient of Q_i\n",
    "# Inputs:\n",
    "#     w: d-by-1 matrix\n",
    "#     xi: 1-by-d matrix\n",
    "#     yi: scalar\n",
    "#     lam: scalar, the regularization parameter\n",
    "# Return:\n",
    "#     obj: scalar, the objective Q_i\n",
    "#     g: d-by-1 matrix, gradient of Q_i\n",
    "def stochastic_objective_gradient(w, xi, yi, lam):\n",
    "    d = xi.shape[1]\n",
    "    yx = yi * xi # 1-by-d matrix\n",
    "    yxw = float(numpy.dot(yx, w)) # scalar\n",
    "    \n",
    "    # calculate objective function Q_i\n",
    "    loss = numpy.log(1 + numpy.exp(-yxw)) # scalar\n",
    "    reg = lam / 2 * numpy.sum(w * w) # scalar\n",
    "    obj = loss + reg\n",
    "    \n",
    "    # calculate stochastic gradient\n",
    "    g_loss = -yx.T / (1 + numpy.exp(yxw)) # d-by-1 matrix\n",
    "    g = g_loss + lam * w # d-by-1 matrix\n",
    "    \n",
    "    return obj, g"
   ]
  },
  {
   "cell_type": "code",
   "execution_count": 13,
   "metadata": {},
   "outputs": [],
   "source": [
    "# SGD for solving logistic regression\n",
    "# Inputs:\n",
    "#     x: n-by-d matrix\n",
    "#     y: n-by-1 matrix\n",
    "#     lam: scalar, the regularization parameter\n",
    "#     stepsize: scalar\n",
    "#     max_epoch: integer, the maximal epochs\n",
    "#     w: d-by-1 matrix, initialization of w\n",
    "# Return:\n",
    "#     w: the solution\n",
    "#     objvals: record of each iteration's objective value\n",
    "def sgd(x, y, lam, stepsize, max_epoch=100, w=None):\n",
    "    n, d = x.shape\n",
    "    objvals = numpy.zeros(max_epoch) # store the objective values\n",
    "    if w is None:\n",
    "        w = numpy.zeros((d, 1)) # zero initialization\n",
    "    \n",
    "    for t in range(max_epoch):\n",
    "        # randomly shuffle the samples\n",
    "        rand_indices = numpy.random.permutation(n)\n",
    "        x_rand = x[rand_indices, :]\n",
    "        y_rand = y[rand_indices, :]\n",
    "        \n",
    "        objval = 0 # accumulate the objective values\n",
    "        for i in range(n):\n",
    "            xi = x_rand[i, :] # 1-by-d matrix\n",
    "            yi = float(y_rand[i, :]) # scalar\n",
    "            obj, g = stochastic_objective_gradient(w, xi, yi, lam)\n",
    "            objval += obj\n",
    "            w -= stepsize * g\n",
    "        \n",
    "        stepsize *= 0.9 # decrease step size\n",
    "        objval /= n\n",
    "        objvals[t] = objval\n",
    "        print('Objective value at epoch t=' + str(t) + ' is ' + str(objval))\n",
    "    \n",
    "    return w, objvals"
   ]
  },
  {
   "cell_type": "markdown",
   "metadata": {},
   "source": [
    "Run SGD."
   ]
  },
  {
   "cell_type": "code",
   "execution_count": 14,
   "metadata": {},
   "outputs": [
    {
     "name": "stdout",
     "output_type": "stream",
     "text": [
      "Objective value at epoch t=0 is 0.5117703812804291\n",
      "Objective value at epoch t=1 is 0.5122439666635421\n",
      "Objective value at epoch t=2 is 0.5099384117476131\n",
      "Objective value at epoch t=3 is 0.5137393259829918\n",
      "Objective value at epoch t=4 is 0.49883293480636637\n",
      "Objective value at epoch t=5 is 0.49642139549265646\n",
      "Objective value at epoch t=6 is 0.49338184798937157\n",
      "Objective value at epoch t=7 is 0.4956500693970825\n",
      "Objective value at epoch t=8 is 0.49296076124629684\n",
      "Objective value at epoch t=9 is 0.4901705787591342\n",
      "Objective value at epoch t=10 is 0.4849915449140159\n",
      "Objective value at epoch t=11 is 0.4818771086205924\n",
      "Objective value at epoch t=12 is 0.48481138963149545\n",
      "Objective value at epoch t=13 is 0.47979110820503534\n",
      "Objective value at epoch t=14 is 0.47822739831250205\n",
      "Objective value at epoch t=15 is 0.4796550664884669\n",
      "Objective value at epoch t=16 is 0.47771391766213583\n",
      "Objective value at epoch t=17 is 0.4772331996076634\n",
      "Objective value at epoch t=18 is 0.4772507870562513\n",
      "Objective value at epoch t=19 is 0.4753752804432505\n",
      "Objective value at epoch t=20 is 0.4748819770997671\n",
      "Objective value at epoch t=21 is 0.47349218714570424\n",
      "Objective value at epoch t=22 is 0.4740475092334543\n",
      "Objective value at epoch t=23 is 0.4727557818807432\n",
      "Objective value at epoch t=24 is 0.47208842880060936\n",
      "Objective value at epoch t=25 is 0.4719573295487158\n",
      "Objective value at epoch t=26 is 0.470850287795664\n",
      "Objective value at epoch t=27 is 0.4705563679877895\n",
      "Objective value at epoch t=28 is 0.47055042438364786\n",
      "Objective value at epoch t=29 is 0.47024328314398645\n",
      "Objective value at epoch t=30 is 0.46987830004436415\n",
      "Objective value at epoch t=31 is 0.46963389233241387\n",
      "Objective value at epoch t=32 is 0.46940782495419925\n",
      "Objective value at epoch t=33 is 0.4691584398542362\n",
      "Objective value at epoch t=34 is 0.46897206587704054\n",
      "Objective value at epoch t=35 is 0.46864940158383106\n",
      "Objective value at epoch t=36 is 0.4686045747735316\n",
      "Objective value at epoch t=37 is 0.4684205779794387\n",
      "Objective value at epoch t=38 is 0.46828909424106585\n",
      "Objective value at epoch t=39 is 0.46816995042743503\n",
      "Objective value at epoch t=40 is 0.468049719566226\n",
      "Objective value at epoch t=41 is 0.4679614792886607\n",
      "Objective value at epoch t=42 is 0.4678685267219496\n",
      "Objective value at epoch t=43 is 0.4677582690912878\n",
      "Objective value at epoch t=44 is 0.46770548279011137\n",
      "Objective value at epoch t=45 is 0.46762819033001224\n",
      "Objective value at epoch t=46 is 0.4675683845779773\n",
      "Objective value at epoch t=47 is 0.46751534305974624\n",
      "Objective value at epoch t=48 is 0.46746671378255267\n",
      "Objective value at epoch t=49 is 0.46741697748637695\n",
      "Objective value at epoch t=50 is 0.46737932829417445\n",
      "Objective value at epoch t=51 is 0.46733949479646253\n",
      "Objective value at epoch t=52 is 0.4673096572284141\n",
      "Objective value at epoch t=53 is 0.4672786969834982\n",
      "Objective value at epoch t=54 is 0.46725118658575615\n",
      "Objective value at epoch t=55 is 0.467227848069688\n",
      "Objective value at epoch t=56 is 0.4672065154071718\n",
      "Objective value at epoch t=57 is 0.4671868837954232\n",
      "Objective value at epoch t=58 is 0.4671685732599008\n",
      "Objective value at epoch t=59 is 0.46715319944961864\n",
      "Objective value at epoch t=60 is 0.4671387974620703\n",
      "Objective value at epoch t=61 is 0.46712585079350644\n",
      "Objective value at epoch t=62 is 0.4671143068695159\n",
      "Objective value at epoch t=63 is 0.4671037883556129\n",
      "Objective value at epoch t=64 is 0.4670942048970483\n",
      "Objective value at epoch t=65 is 0.46708572083862177\n",
      "Objective value at epoch t=66 is 0.46707811218063633\n",
      "Objective value at epoch t=67 is 0.46707121770597554\n",
      "Objective value at epoch t=68 is 0.467065040311201\n",
      "Objective value at epoch t=69 is 0.46705940788475725\n",
      "Objective value at epoch t=70 is 0.4670543978428877\n",
      "Objective value at epoch t=71 is 0.46704986390678893\n",
      "Objective value at epoch t=72 is 0.4670457876553666\n",
      "Objective value at epoch t=73 is 0.4670421361919307\n",
      "Objective value at epoch t=74 is 0.4670388250813652\n",
      "Objective value at epoch t=75 is 0.4670358546309862\n",
      "Objective value at epoch t=76 is 0.46703317899511265\n",
      "Objective value at epoch t=77 is 0.46703076717631936\n",
      "Objective value at epoch t=78 is 0.46702860584842565\n",
      "Objective value at epoch t=79 is 0.46702665293114426\n",
      "Objective value at epoch t=80 is 0.46702489832390226\n",
      "Objective value at epoch t=81 is 0.46702331827460297\n",
      "Objective value at epoch t=82 is 0.4670218970976713\n",
      "Objective value at epoch t=83 is 0.46702061618966717\n",
      "Objective value at epoch t=84 is 0.467019463836272\n",
      "Objective value at epoch t=85 is 0.46701842520158043\n",
      "Objective value at epoch t=86 is 0.46701749439966467\n",
      "Objective value at epoch t=87 is 0.46701665484370747\n",
      "Objective value at epoch t=88 is 0.46701589837213825\n",
      "Objective value at epoch t=89 is 0.4670152181338335\n",
      "Objective value at epoch t=90 is 0.4670146055411745\n",
      "Objective value at epoch t=91 is 0.4670140548699462\n",
      "Objective value at epoch t=92 is 0.4670135586022287\n",
      "Objective value at epoch t=93 is 0.46701311252564803\n",
      "Objective value at epoch t=94 is 0.46701271033976244\n",
      "Objective value at epoch t=95 is 0.4670123490937249\n",
      "Objective value at epoch t=96 is 0.46701202347861626\n",
      "Objective value at epoch t=97 is 0.46701173069061175\n",
      "Objective value at epoch t=98 is 0.46701146700573687\n",
      "Objective value at epoch t=99 is 0.467011229838883\n"
     ]
    }
   ],
   "source": [
    "lam = 1E-6\n",
    "stepsize = 0.1\n",
    "w, objvals_sgd = sgd(x_train, y_train, lam, stepsize)"
   ]
  },
  {
   "cell_type": "markdown",
   "metadata": {},
   "source": [
    "# 4. Compare GD with SGD\n",
    "\n",
    "Plot objective function values against epochs."
   ]
  },
  {
   "cell_type": "code",
   "execution_count": 15,
   "metadata": {},
   "outputs": [
    {
     "data": {
      "image/png": "[encoded data removed]",
      "text/plain": [
       "<Figure size 432x288 with 1 Axes>"
      ]
     },
     "metadata": {},
     "output_type": "display_data"
    }
   ],
   "source": [
    "import matplotlib.pyplot as plt\n",
    "%matplotlib inline\n",
    "\n",
    "fig = plt.figure(figsize=(6, 4))\n",
    "\n",
    "epochs_gd = range(len(objvals_gd))\n",
    "epochs_sgd = range(len(objvals_sgd))\n",
    "\n",
    "line0, = plt.plot(epochs_gd, objvals_gd, '--b', LineWidth=4)\n",
    "line1, = plt.plot(epochs_sgd, objvals_sgd, '-r', LineWidth=2)\n",
    "plt.xlabel('Epochs', FontSize=20)\n",
    "plt.ylabel('Objective Value', FontSize=20)\n",
    "plt.xticks(FontSize=16)\n",
    "plt.yticks(FontSize=16)\n",
    "plt.legend([line0, line1], ['GD', 'SGD'], fontsize=20)\n",
    "plt.tight_layout()\n",
    "plt.show()\n",
    "fig.savefig('compare_gd_sgd.pdf', format='pdf', dpi=1200)"
   ]
  },
  {
   "cell_type": "markdown",
   "metadata": {},
   "source": [
    "# 5. Prediction"
   ]
  },
  {
   "cell_type": "code",
   "execution_count": 16,
   "metadata": {},
   "outputs": [],
   "source": [
    "# Predict class label\n",
    "# Inputs:\n",
    "#     w: d-by-1 matrix\n",
    "#     X: m-by-d matrix\n",
    "# Return:\n",
    "#     f: m-by-1 matrix, the predictions\n",
    "def predict(w, X):\n",
    "    xw = numpy.dot(X, w)\n",
    "    f = numpy.sign(xw)\n",
    "    return f"
   ]
  },
  {
   "cell_type": "code",
   "execution_count": 17,
   "metadata": {},
   "outputs": [
    {
     "name": "stdout",
     "output_type": "stream",
     "text": [
      "Training classification error is 0.228125\n"
     ]
    }
   ],
   "source": [
    "# evaluate training error\n",
    "f_train = predict(w, x_train)\n",
    "diff = numpy.abs(f_train - y_train) / 2\n",
    "error_train = numpy.mean(diff)\n",
    "print('Training classification error is ' + str(error_train))"
   ]
  },
  {
   "cell_type": "code",
   "execution_count": 18,
   "metadata": {},
   "outputs": [
    {
     "name": "stdout",
     "output_type": "stream",
     "text": [
      "Test classification error is 0.2109375\n"
     ]
    }
   ],
   "source": [
    "# evaluate test error\n",
    "f_test = predict(w, x_test)\n",
    "diff = numpy.abs(f_test - y_test) / 2\n",
    "error_test = numpy.mean(diff)\n",
    "print('Test classification error is ' + str(error_test))"
   ]
  },
  {
   "cell_type": "markdown",
   "metadata": {},
   "source": [
    "# 6. Mini-batch SGD (fill the code)\n",
    "\n"
   ]
  },
  {
   "cell_type": "markdown",
   "metadata": {},
   "source": [
    "## 6.1. Compute the objective $Q_I$ and its gradient using a batch of samples\n",
    "\n",
    "Define $Q_I (w) = \\frac{1}{b} \\sum_{i \\in I} \\log \\Big( 1 + \\exp \\big( - y_i x_i^T w \\big) \\Big) + \\frac{\\lambda}{2} \\| w \\|_2^2 $, where $I$ is a set containing $b$ indices randomly drawn from $\\{ 1, \\cdots , n \\}$ without replacement.\n",
    "\n",
    "The stochastic gradient at $w$ is $g_I = \\frac{\\partial Q_I }{ \\partial w} = \\frac{1}{b} \\sum_{i \\in I} \\frac{- y_i x_i }{1 + \\exp ( y_i x_i^T w)} + \\lambda w$."
   ]
  },
  {
   "cell_type": "code",
   "execution_count": 19,
   "metadata": {},
   "outputs": [],
   "source": [
    "# Calculate the objective Q_I and the gradient of Q_I\n",
    "# Inputs:\n",
    "#     w: d-by-1 matrix\n",
    "#     xi: b-by-d matrix\n",
    "#     yi: b-by-1 matrix\n",
    "#     lam: scalar, the regularization parameter\n",
    "#     b: integer, the batch size\n",
    "# Return:\n",
    "#     obj: scalar, the objective Q_i\n",
    "#     g: d-by-1 matrix, gradient of Q_i\n",
    "def mb_stochastic_objective_gradient(w, xi, yi, lam, b):\n",
    "    # Fill the function\n",
    "    # Follow the implementation of stochastic_objective_gradient\n",
    "    # Use matrix-vector multiplication; do not use FOR LOOP of vector-vector multiplications\n",
    "    d = xi.shape[1]\n",
    "    yx = numpy.multiply(yi,xi) # b-by-d matrix\n",
    "    yxw=numpy.dot(yx, w) # b-by-1 matrix\n",
    "    vec1 = numpy.exp(-yxw) # b-by-1 matrix\n",
    "    vec2 = numpy.log(1 + vec1) # b-by-1 matrix\n",
    "    loss = numpy.mean(vec2) # scalar\n",
    "    reg = lam / 2 * numpy.sum(w * w) # scalar\n",
    "    obj = loss + reg\n",
    "    \n",
    "    # calculate gradient\n",
    "    vec3 = numpy.divide(yx, 1 + numpy.exp(yxw)) # b-by-d matrix\n",
    "    vec4 = -numpy.mean(vec3, axis=0).reshape(d,1) # d-by-1 matrix\n",
    "    g = vec4 + lam * w\n",
    "    \n",
    "    return obj, g"
   ]
  },
  {
   "cell_type": "markdown",
   "metadata": {},
   "source": [
    "## 6.2. Implement mini-batch SGD\n",
    "\n",
    "Hints:\n",
    "1. In every epoch, randomly permute the $n$ samples (just like SGD).\n",
    "2. Each epoch has $\\frac{n}{b}$ iterations. In every iteration, use $b$ samples, and compute the gradient and objective using the ``mb_stochastic_objective_gradient`` function. In the next iteration, use the next $b$ samples, and so on.\n"
   ]
  },
  {
   "cell_type": "code",
   "execution_count": 20,
   "metadata": {},
   "outputs": [],
   "source": [
    "# Mini-Batch SGD for solving logistic regression\n",
    "# Inputs:\n",
    "#     x: n-by-d matrix\n",
    "#     y: n-by-1 matrix\n",
    "#     lam: scalar, the regularization parameter\n",
    "#     b: integer, the batch size\n",
    "#     stepsize: scalar\n",
    "#     max_epoch: integer, the maximal epochs\n",
    "#     w: d-by-1 matrix, initialization of w\n",
    "# Return:\n",
    "#     w: the solution\n",
    "#     objvals: record of each iteration's objective value\n",
    "def mb_sgd(x, y, lam, b, stepsize, max_epoch=100, w=None):\n",
    "    # Fill the function\n",
    "    # Follow the implementation of sgd\n",
    "    # Record one objective value per epoch (not per iteration!)\n",
    "    n, d = x.shape\n",
    "    objvals = numpy.zeros(max_epoch) # store the objective values\n",
    "    if w is None:\n",
    "        w = numpy.zeros((d, 1)) # zero initialization\n",
    "    for t in range(max_epoch):\n",
    "        objval = 0\n",
    "        rand_indices = numpy.random.permutation(n)\n",
    "        x_rand = x[rand_indices, :]\n",
    "        y_rand = y[rand_indices, :]\n",
    "        batches = int(n/b)\n",
    "        for i in range(batches):\n",
    "            x_batch = x[i*b:(i+1)*b,:]\n",
    "            y_batch = y[i*b:(i+1)*b,:]\n",
    "            obj, g = mb_stochastic_objective_gradient(w, x_batch, y_batch, lam, b)\n",
    "            objval+=obj\n",
    "            w -= stepsize * g\n",
    "            \n",
    "        stepsize *= 0.9 # decrease step size\n",
    "        objval/=batches\n",
    "        objvals[t] = objval\n",
    "        print('Objective value at epoch t=' + str(t) + ' is ' + str(objval))\n",
    "    return w, objvals"
   ]
  },
  {
   "cell_type": "markdown",
   "metadata": {},
   "source": [
    "## 6.3. Run MB-SGD"
   ]
  },
  {
   "cell_type": "code",
   "execution_count": 21,
   "metadata": {},
   "outputs": [
    {
     "name": "stdout",
     "output_type": "stream",
     "text": [
      "Objective value at epoch t=0 is 0.543713894406519\n",
      "Objective value at epoch t=1 is 0.48507116430239333\n",
      "Objective value at epoch t=2 is 0.47746374008163056\n",
      "Objective value at epoch t=3 is 0.4748782855515704\n",
      "Objective value at epoch t=4 is 0.4735612829428891\n",
      "Objective value at epoch t=5 is 0.47269840762038323\n",
      "Objective value at epoch t=6 is 0.47204269084297507\n",
      "Objective value at epoch t=7 is 0.47150262346323296\n",
      "Objective value at epoch t=8 is 0.47103868161291274\n",
      "Objective value at epoch t=9 is 0.4706312632190781\n",
      "Objective value at epoch t=10 is 0.47026926275870895\n",
      "Objective value at epoch t=11 is 0.4699455565986056\n",
      "Objective value at epoch t=12 is 0.46965506514457067\n",
      "Objective value at epoch t=13 is 0.4693938600900206\n",
      "Objective value at epoch t=14 is 0.46915872572946105\n",
      "Objective value at epoch t=15 is 0.4689469294067491\n",
      "Objective value at epoch t=16 is 0.46875609334593327\n",
      "Objective value at epoch t=17 is 0.46858411797709215\n",
      "Objective value at epoch t=18 is 0.46842913261268004\n",
      "Objective value at epoch t=19 is 0.46828946132271787\n",
      "Objective value at epoch t=20 is 0.4681635976736004\n",
      "Objective value at epoch t=21 is 0.46805018491758466\n",
      "Objective value at epoch t=22 is 0.4679479997347536\n",
      "Objective value at epoch t=23 is 0.46785593843645773\n",
      "Objective value at epoch t=24 is 0.4677730049803026\n",
      "Objective value at epoch t=25 is 0.4676983003934191\n",
      "Objective value at epoch t=26 is 0.4676310133418381\n",
      "Objective value at epoch t=27 is 0.46757041166636276\n",
      "Objective value at epoch t=28 is 0.4675158347549212\n",
      "Objective value at epoch t=29 is 0.46746668665205526\n",
      "Objective value at epoch t=30 is 0.4674224298258802\n",
      "Objective value at epoch t=31 is 0.46738257952603934\n",
      "Objective value at epoch t=32 is 0.46734669867545353\n",
      "Objective value at epoch t=33 is 0.4673143932455829\n",
      "Objective value at epoch t=34 is 0.46728530807031915\n",
      "Objective value at epoch t=35 is 0.46725912305806716\n",
      "Objective value at epoch t=36 is 0.46723554976534964\n",
      "Objective value at epoch t=37 is 0.4672143282986042\n",
      "Objective value at epoch t=38 is 0.46719522451377304\n",
      "Objective value at epoch t=39 is 0.4671780274859925\n",
      "Objective value at epoch t=40 is 0.46716254722412626\n",
      "Objective value at epoch t=41 is 0.4671486126071117\n",
      "Objective value at epoch t=42 is 0.46713606952116526\n",
      "Objective value at epoch t=43 is 0.46712477917875583\n",
      "Objective value at epoch t=44 is 0.4671146166020056\n",
      "Objective value at epoch t=45 is 0.46710546925474744\n",
      "Objective value at epoch t=46 is 0.4670972358089359\n",
      "Objective value at epoch t=47 is 0.4670898250324266\n",
      "Objective value at epoch t=48 is 0.4670831547863604\n",
      "Objective value at epoch t=49 is 0.4670771511214963\n",
      "Objective value at epoch t=50 is 0.46707174746384156\n",
      "Objective value at epoch t=51 is 0.46706688388085144\n",
      "Objective value at epoch t=52 is 0.4670625064203069\n",
      "Objective value at epoch t=53 is 0.46705856651473043\n",
      "Objective value at epoch t=54 is 0.4670550204448995\n",
      "Objective value at epoch t=55 is 0.46705182885663055\n",
      "Objective value at epoch t=56 is 0.46704895632558047\n",
      "Objective value at epoch t=57 is 0.46704637096532026\n",
      "Objective value at epoch t=58 is 0.4670440440744022\n",
      "Objective value at epoch t=59 is 0.46704194981855573\n",
      "Objective value at epoch t=60 is 0.46704006494453265\n",
      "Objective value at epoch t=61 is 0.4670383685224621\n",
      "Objective value at epoch t=62 is 0.4670368417138814\n",
      "Objective value at epoch t=63 is 0.4670354675628964\n",
      "Objective value at epoch t=64 is 0.467034230808166\n",
      "Objective value at epoch t=65 is 0.46703311771364414\n",
      "Objective value at epoch t=66 is 0.46703211591620936\n",
      "Objective value at epoch t=67 is 0.46703121428850236\n",
      "Objective value at epoch t=68 is 0.4670304028154521\n",
      "Objective value at epoch t=69 is 0.4670296724831351\n",
      "Objective value at epoch t=70 is 0.46702901517872614\n",
      "Objective value at epoch t=71 is 0.46702842360044566\n",
      "Objective value at epoch t=72 is 0.46702789117650034\n",
      "Objective value at epoch t=73 is 0.46702741199212017\n",
      "Objective value at epoch t=74 is 0.46702698072388615\n",
      "Objective value at epoch t=75 is 0.4670265925806188\n",
      "Objective value at epoch t=76 is 0.4670262432501745\n",
      "Objective value at epoch t=77 is 0.4670259288515566\n",
      "Objective value at epoch t=78 is 0.46702564589181395\n",
      "Objective value at epoch t=79 is 0.46702539122724646\n",
      "Objective value at epoch t=80 is 0.4670251620284878\n",
      "Objective value at epoch t=81 is 0.467024955749081\n",
      "Objective value at epoch t=82 is 0.46702477009719046\n",
      "Objective value at epoch t=83 is 0.4670246030101445\n",
      "Objective value at epoch t=84 is 0.4670244526315246\n",
      "Objective value at epoch t=85 is 0.4670243172905407\n",
      "Objective value at epoch t=86 is 0.4670241954834727\n",
      "Objective value at epoch t=87 is 0.4670240858569631\n",
      "Objective value at epoch t=88 is 0.4670239871929847\n",
      "Objective value at epoch t=89 is 0.4670238983953069\n",
      "Objective value at epoch t=90 is 0.4670238184773182\n",
      "Objective value at epoch t=91 is 0.4670237465510646\n",
      "Objective value at epoch t=92 is 0.46702368181738496\n",
      "Objective value at epoch t=93 is 0.4670236235570311\n",
      "Objective value at epoch t=94 is 0.4670235711226788\n",
      "Objective value at epoch t=95 is 0.4670235239317342\n",
      "Objective value at epoch t=96 is 0.4670234814598621\n",
      "Objective value at epoch t=97 is 0.467023443235159\n",
      "Objective value at epoch t=98 is 0.4670234088329118\n",
      "Objective value at epoch t=99 is 0.46702337787087733\n"
     ]
    }
   ],
   "source": [
    "# MB-SGD with batch size b=8\n",
    "lam = 1E-6 # do not change\n",
    "b = 8 # do not change\n",
    "stepsize = 0.1 # you must tune this parameter\n",
    "\n",
    "w, objvals_mbsgd8 = mb_sgd(x_train, y_train, lam, b, stepsize)"
   ]
  },
  {
   "cell_type": "code",
   "execution_count": 22,
   "metadata": {},
   "outputs": [
    {
     "name": "stdout",
     "output_type": "stream",
     "text": [
      "Objective value at epoch t=0 is 0.5633613798396103\n",
      "Objective value at epoch t=1 is 0.4899367132024449\n",
      "Objective value at epoch t=2 is 0.478818619235041\n",
      "Objective value at epoch t=3 is 0.47490457763624994\n",
      "Objective value at epoch t=4 is 0.4730156917188614\n",
      "Objective value at epoch t=5 is 0.4719027585417915\n",
      "Objective value at epoch t=6 is 0.47115011959661535\n",
      "Objective value at epoch t=7 is 0.4705907058646271\n",
      "Objective value at epoch t=8 is 0.47014785695099165\n",
      "Objective value at epoch t=9 is 0.4697825061346297\n",
      "Objective value at epoch t=10 is 0.46947286449866243\n",
      "Objective value at epoch t=11 is 0.4692057544177781\n",
      "Objective value at epoch t=12 is 0.46897260144203445\n",
      "Objective value at epoch t=13 is 0.46876745296577277\n",
      "Objective value at epoch t=14 is 0.46858594090072875\n",
      "Objective value at epoch t=15 is 0.4684247098976832\n",
      "Objective value at epoch t=16 is 0.4682810868070539\n",
      "Objective value at epoch t=17 is 0.4681528807730177\n",
      "Objective value at epoch t=18 is 0.46803825696664686\n",
      "Objective value at epoch t=19 is 0.46793565341501653\n",
      "Objective value at epoch t=20 is 0.46784372396677903\n",
      "Objective value at epoch t=21 is 0.46776129766398855\n",
      "Objective value at epoch t=22 is 0.46768734876399315\n",
      "Objective value at epoch t=23 is 0.4676209739055549\n",
      "Objective value at epoch t=24 is 0.46756137422317734\n",
      "Objective value at epoch t=25 is 0.4675078409959639\n",
      "Objective value at epoch t=26 is 0.46745974389618994\n",
      "Objective value at epoch t=27 is 0.46741652120287247\n",
      "Objective value at epoch t=28 is 0.46737767153802706\n",
      "Objective value at epoch t=29 is 0.4673427468094514\n",
      "Objective value at epoch t=30 is 0.46731134612841974\n",
      "Objective value at epoch t=31 is 0.46728311052858107\n",
      "Objective value at epoch t=32 is 0.4672577183528862\n",
      "Objective value at epoch t=33 is 0.4672348812043339\n",
      "Objective value at epoch t=34 is 0.4672143403774699\n",
      "Objective value at epoch t=35 is 0.46719586370332256\n",
      "Objective value at epoch t=36 is 0.4671792427524063\n",
      "Objective value at epoch t=37 is 0.46716429034967605\n",
      "Objective value at epoch t=38 is 0.4671508383625821\n",
      "Objective value at epoch t=39 is 0.4671387357291943\n",
      "Objective value at epoch t=40 is 0.4671278466980725\n",
      "Objective value at epoch t=41 is 0.46711804925543915\n",
      "Objective value at epoch t=42 is 0.4671092337184225\n",
      "Objective value at epoch t=43 is 0.4671013014758481\n",
      "Objective value at epoch t=44 is 0.46709416386034175\n",
      "Objective value at epoch t=45 is 0.4670877411374665\n",
      "Objective value at epoch t=46 is 0.4670819615992947\n",
      "Objective value at epoch t=47 is 0.46707676075127563\n",
      "Objective value at epoch t=48 is 0.46707208058251853\n",
      "Objective value at epoch t=49 is 0.4670678689107204\n",
      "Objective value at epoch t=50 is 0.467064078793933\n",
      "Objective value at epoch t=51 is 0.467060668002215\n",
      "Objective value at epoch t=52 is 0.4670575985429689\n",
      "Objective value at epoch t=53 is 0.46705483623442384\n",
      "Objective value at epoch t=54 is 0.46705235032231396\n",
      "Objective value at epoch t=55 is 0.46705011313532596\n",
      "Objective value at epoch t=56 is 0.467048099775352\n",
      "Objective value at epoch t=57 is 0.4670462878390002\n",
      "Objective value at epoch t=58 is 0.467044657167179\n",
      "Objective value at epoch t=59 is 0.4670431896199066\n",
      "Objective value at epoch t=60 is 0.46704186887378574\n",
      "Objective value at epoch t=61 is 0.4670406802398497\n",
      "Objective value at epoch t=62 is 0.4670396104997184\n",
      "Objective value at epoch t=63 is 0.4670386477582169\n",
      "Objective value at epoch t=64 is 0.46703778131079315\n",
      "Objective value at epoch t=65 is 0.4670370015242443\n",
      "Objective value at epoch t=66 is 0.46703629972941113\n",
      "Objective value at epoch t=67 is 0.46703566812463626\n",
      "Objective value at epoch t=68 is 0.46703509968890106\n",
      "Objective value at epoch t=69 is 0.46703458810367227\n",
      "Objective value at epoch t=70 is 0.46703412768258035\n",
      "Objective value at epoch t=71 is 0.46703371330814336\n",
      "Objective value at epoch t=72 is 0.4670333403748315\n",
      "Objective value at epoch t=73 is 0.4670330047378318\n",
      "Objective value at epoch t=74 is 0.4670327026669464\n",
      "Objective value at epoch t=75 is 0.4670324308051046\n",
      "Objective value at epoch t=76 is 0.4670321861310304\n",
      "Objective value at epoch t=77 is 0.4670319659256461\n",
      "Objective value at epoch t=78 is 0.46703176774183863\n",
      "Objective value at epoch t=79 is 0.4670315893772531\n",
      "Objective value at epoch t=80 is 0.46703142884980736\n",
      "Objective value at epoch t=81 is 0.467031284375658\n",
      "Objective value at epoch t=82 is 0.4670311543493704\n",
      "Objective value at epoch t=83 is 0.4670310373260735\n",
      "Objective value at epoch t=84 is 0.46703093200539947\n",
      "Objective value at epoch t=85 is 0.4670308372170303\n",
      "Objective value at epoch t=86 is 0.46703075190769033\n",
      "Objective value at epoch t=87 is 0.4670306751294402\n",
      "Objective value at epoch t=88 is 0.4670306060291411\n",
      "Objective value at epoch t=89 is 0.46703054383897424\n",
      "Objective value at epoch t=90 is 0.4670304878679067\n",
      "Objective value at epoch t=91 is 0.467030437494013\n",
      "Objective value at epoch t=92 is 0.46703039215756303\n",
      "Objective value at epoch t=93 is 0.467030351354802\n",
      "Objective value at epoch t=94 is 0.4670303146323527\n",
      "Objective value at epoch t=95 is 0.46703028158217724\n",
      "Objective value at epoch t=96 is 0.4670302518370426\n",
      "Objective value at epoch t=97 is 0.46703022506644043\n",
      "Objective value at epoch t=98 is 0.4670302009729137\n",
      "Objective value at epoch t=99 is 0.4670301792887523\n"
     ]
    }
   ],
   "source": [
    "# MB-SGD with batch size b=64\n",
    "lam = 1E-6 # do not change\n",
    "b = 64 # do not change\n",
    "stepsize = 0.6 # you must tune this parameter\n",
    "\n",
    "w, objvals_mbsgd64 = mb_sgd(x_train, y_train, lam, b, stepsize)"
   ]
  },
  {
   "cell_type": "markdown",
   "metadata": {},
   "source": [
    "# 7. Plot and compare GD, SGD, and MB-SGD"
   ]
  },
  {
   "cell_type": "markdown",
   "metadata": {},
   "source": [
    "You are required to compare the following algorithms:\n",
    "\n",
    "- Gradient descent (GD)\n",
    "\n",
    "- SGD\n",
    "\n",
    "- MB-SGD with b=8\n",
    "\n",
    "- MB-SGD with b=64\n",
    "\n",
    "Follow the code in Section 4 to plot ```objective function value``` against ```epochs```. There should be four curves in the plot; each curve corresponds to one algorithm."
   ]
  },
  {
   "cell_type": "markdown",
   "metadata": {},
   "source": [
    "Hint: Logistic regression with $\\ell_2$-norm regularization is a strongly convex optimization problem. All the algorithms will converge to the same solution. **In the end, the ``objective function value`` of the 4 algorithms will be the same. If not the same, your implementation must be wrong. Do NOT submit wrong code and wrong result!**"
   ]
  },
  {
   "cell_type": "code",
   "execution_count": 26,
   "metadata": {},
   "outputs": [
    {
     "data": {
      "image/png": "[encoded data removed]",
      "text/plain": [
       "<Figure size 432x288 with 1 Axes>"
      ]
     },
     "metadata": {},
     "output_type": "display_data"
    }
   ],
   "source": [
    "# plot the 4 curves:\n",
    "import matplotlib.pyplot as plt\n",
    "%matplotlib inline\n",
    "\n",
    "fig = plt.figure(figsize=(6, 4))\n",
    "\n",
    "epochs_gd = range(len(objvals_gd))\n",
    "epochs_sgd = range(len(objvals_sgd))\n",
    "epochs_mbsgd8 = range(len(objvals_mbsgd8))\n",
    "epochs_mbsgd64 = range(len(objvals_mbsgd64))\n",
    "\n",
    "line0, = plt.plot(epochs_gd, objvals_gd, '--b', LineWidth=2)\n",
    "line1, = plt.plot(epochs_sgd, objvals_sgd, '-y', LineWidth=2)\n",
    "line2, = plt.plot(epochs_mbsgd8, objvals_mbsgd8, '-.r', LineWidth=2)\n",
    "line3, = plt.plot(epochs_mbsgd64, objvals_mbsgd64, ':g', LineWidth=4)\n",
    "\n",
    "plt.xlabel('Epochs', FontSize=20)\n",
    "plt.ylabel('Objective Value', FontSize=20)\n",
    "plt.xticks(FontSize=16)\n",
    "plt.yticks(FontSize=16)\n",
    "plt.legend([line0, line1, line2, line3], ['GD', 'SGD', 'MBSGD8', 'MBSGD64'], fontsize=20)\n",
    "plt.tight_layout()\n",
    "plt.show()\n",
    "fig.savefig('compare_gd_sgd.pdf', format='pdf', dpi=1200)"
   ]
  },
  {
   "cell_type": "markdown",
   "metadata": {},
   "source": []
  }
 ],
 "metadata": {
  "kernelspec": {
   "display_name": "Python 3",
   "language": "python",
   "name": "python3"
  },
  "language_info": {
   "codemirror_mode": {
    "name": "ipython",
    "version": 3
   },
   "file_extension": ".py",
   "mimetype": "text/x-python",
   "name": "python",
   "nbconvert_exporter": "python",
   "pygments_lexer": "ipython3",
   "version": "3.5.0"
  }
 },
 "nbformat": 4,
 "nbformat_minor": 2
}
